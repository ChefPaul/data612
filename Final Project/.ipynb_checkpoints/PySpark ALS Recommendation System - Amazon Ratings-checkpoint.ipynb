{
 "cells": [
  {
   "cell_type": "code",
   "execution_count": 1,
   "metadata": {},
   "outputs": [],
   "source": [
    "import pandas as pd\n",
    "from pyspark.sql import SparkSession\n",
    "from pyspark import SparkContext\n",
    "from pyspark import SparkConf\n",
    "from pyspark.ml.evaluation import RegressionEvaluator\n",
    "from pyspark.ml.recommendation import ALS\n",
    "from pyspark.sql import Row\n",
    "from pyspark.sql.functions import monotonically_increasing_id\n",
    "from pyspark.ml.feature import StringIndexer\n",
    "from pyspark.ml import Pipeline\n",
    "from pyspark.sql.functions import col\n",
    "from pyspark.sql import SparkSession\n"
   ]
  },
  {
   "cell_type": "code",
   "execution_count": 3,
   "metadata": {
    "scrolled": true
   },
   "outputs": [
    {
     "name": "stderr",
     "output_type": "stream",
     "text": [
      "b'Skipping line 1686: expected 15 fields, saw 22\\nSkipping line 23469: expected 15 fields, saw 22\\nSkipping line 25225: expected 15 fields, saw 22\\nSkipping line 48778: expected 15 fields, saw 22\\nSkipping line 54061: expected 15 fields, saw 22\\n'\n",
      "b'Skipping line 66479: expected 15 fields, saw 22\\nSkipping line 85019: expected 15 fields, saw 22\\nSkipping line 102383: expected 15 fields, saw 22\\nSkipping line 108349: expected 15 fields, saw 22\\nSkipping line 111834: expected 15 fields, saw 22\\nSkipping line 122189: expected 15 fields, saw 22\\nSkipping line 124293: expected 15 fields, saw 22\\n'\n",
      "b'Skipping line 137493: expected 15 fields, saw 22\\nSkipping line 138671: expected 15 fields, saw 22\\nSkipping line 147213: expected 15 fields, saw 22\\nSkipping line 156030: expected 15 fields, saw 22\\nSkipping line 159108: expected 15 fields, saw 22\\nSkipping line 162860: expected 15 fields, saw 22\\nSkipping line 166640: expected 15 fields, saw 22\\nSkipping line 174287: expected 15 fields, saw 22\\nSkipping line 175456: expected 15 fields, saw 22\\nSkipping line 186094: expected 15 fields, saw 22\\nSkipping line 192686: expected 15 fields, saw 22\\n'\n",
      "b'Skipping line 197207: expected 15 fields, saw 22\\nSkipping line 203271: expected 15 fields, saw 22\\nSkipping line 205989: expected 15 fields, saw 22\\nSkipping line 210111: expected 15 fields, saw 22\\nSkipping line 211806: expected 15 fields, saw 22\\nSkipping line 219501: expected 15 fields, saw 22\\nSkipping line 220134: expected 15 fields, saw 22\\nSkipping line 236916: expected 15 fields, saw 22\\nSkipping line 242422: expected 15 fields, saw 22\\nSkipping line 256047: expected 15 fields, saw 22\\n'\n",
      "b'Skipping line 266009: expected 15 fields, saw 22\\nSkipping line 269255: expected 15 fields, saw 22\\nSkipping line 327533: expected 15 fields, saw 22\\n'\n",
      "b'Skipping line 327853: expected 15 fields, saw 22\\nSkipping line 335421: expected 15 fields, saw 22\\nSkipping line 336895: expected 15 fields, saw 22\\nSkipping line 346686: expected 15 fields, saw 22\\nSkipping line 362516: expected 15 fields, saw 22\\nSkipping line 369917: expected 15 fields, saw 22\\nSkipping line 377723: expected 15 fields, saw 22\\nSkipping line 390007: expected 15 fields, saw 22\\n'\n",
      "b'Skipping line 395685: expected 15 fields, saw 22\\nSkipping line 402523: expected 15 fields, saw 22\\nSkipping line 403436: expected 15 fields, saw 22\\nSkipping line 407262: expected 15 fields, saw 29\\nSkipping line 419930: expected 15 fields, saw 22\\nSkipping line 422392: expected 15 fields, saw 22\\nSkipping line 426219: expected 15 fields, saw 22\\nSkipping line 441415: expected 15 fields, saw 22\\nSkipping line 444888: expected 15 fields, saw 22\\n'\n",
      "b'Skipping line 462026: expected 15 fields, saw 22\\nSkipping line 467835: expected 15 fields, saw 22\\nSkipping line 472381: expected 15 fields, saw 22\\nSkipping line 475097: expected 15 fields, saw 22\\nSkipping line 496021: expected 15 fields, saw 22\\nSkipping line 498275: expected 15 fields, saw 22\\nSkipping line 499792: expected 15 fields, saw 22\\n'\n",
      "b'Skipping line 524535: expected 15 fields, saw 22\\nSkipping line 530569: expected 15 fields, saw 22\\nSkipping line 555939: expected 15 fields, saw 22\\nSkipping line 557743: expected 15 fields, saw 22\\nSkipping line 571215: expected 15 fields, saw 22\\nSkipping line 578559: expected 15 fields, saw 22\\nSkipping line 585102: expected 15 fields, saw 22\\n'\n",
      "b'Skipping line 591236: expected 15 fields, saw 22\\nSkipping line 600258: expected 15 fields, saw 22\\nSkipping line 607765: expected 15 fields, saw 22\\nSkipping line 621501: expected 15 fields, saw 22\\nSkipping line 626251: expected 15 fields, saw 22\\nSkipping line 628349: expected 15 fields, saw 22\\nSkipping line 635047: expected 15 fields, saw 22\\nSkipping line 642862: expected 15 fields, saw 22\\nSkipping line 651027: expected 15 fields, saw 22\\n'\n",
      "b'Skipping line 662525: expected 15 fields, saw 22\\nSkipping line 702075: expected 15 fields, saw 22\\nSkipping line 717158: expected 15 fields, saw 22\\n'\n",
      "b'Skipping line 754638: expected 15 fields, saw 22\\nSkipping line 780170: expected 15 fields, saw 22\\nSkipping line 780200: expected 15 fields, saw 22\\nSkipping line 780990: expected 15 fields, saw 22\\nSkipping line 781178: expected 15 fields, saw 22\\nSkipping line 781346: expected 15 fields, saw 22\\n'\n",
      "b'Skipping line 790613: expected 15 fields, saw 22\\nSkipping line 824266: expected 15 fields, saw 22\\n'\n",
      "b'Skipping line 855601: expected 15 fields, saw 22\\nSkipping line 856375: expected 15 fields, saw 22\\n'\n",
      "b'Skipping line 1014504: expected 15 fields, saw 22\\nSkipping line 1031099: expected 15 fields, saw 22\\n'\n"
     ]
    }
   ],
   "source": [
    "# Load Amazon Review Dataset of Digital Music Purchases as DataFrame\n",
    "amz = pd.read_csv('amazon_reviews_us_Digital_Music_Purchase_v1_00.tsv', sep='\\t', error_bad_lines=False)"
   ]
  },
  {
   "cell_type": "code",
   "execution_count": null,
   "metadata": {},
   "outputs": [],
   "source": [
    "# Preview DataFrame\n",
    "amz.head()"
   ]
  },
  {
   "cell_type": "code",
   "execution_count": 4,
   "metadata": {},
   "outputs": [],
   "source": [
    "# Slice DataFrame for Necessary Columns\n",
    "cols = ['customer_id', 'product_id', 'product_title', 'star_rating']\n",
    "amz_data = amz[cols]\n",
    "amz_data"
   ]
  },
  {
   "cell_type": "code",
   "execution_count": 18,
   "metadata": {},
   "outputs": [],
   "source": [
    "# Sample DataSet\n",
    "# https://pandas.pydata.org/pandas-docs/stable/reference/api/pandas.DataFrame.sample.html\n",
    "amz_sample = amz_data.sample(frac = .15, random_state = 123)"
   ]
  },
  {
   "cell_type": "code",
   "execution_count": 19,
   "metadata": {},
   "outputs": [
    {
     "data": {
      "text/html": [
       "<div>\n",
       "<style scoped>\n",
       "    .dataframe tbody tr th:only-of-type {\n",
       "        vertical-align: middle;\n",
       "    }\n",
       "\n",
       "    .dataframe tbody tr th {\n",
       "        vertical-align: top;\n",
       "    }\n",
       "\n",
       "    .dataframe thead th {\n",
       "        text-align: right;\n",
       "    }\n",
       "</style>\n",
       "<table border=\"1\" class=\"dataframe\">\n",
       "  <thead>\n",
       "    <tr style=\"text-align: right;\">\n",
       "      <th></th>\n",
       "      <th>customer_id</th>\n",
       "      <th>product_id</th>\n",
       "      <th>product_title</th>\n",
       "      <th>star_rating</th>\n",
       "    </tr>\n",
       "  </thead>\n",
       "  <tbody>\n",
       "    <tr>\n",
       "      <th>287116</th>\n",
       "      <td>32347684</td>\n",
       "      <td>B00JHBGFN4</td>\n",
       "      <td>Doses &amp; Mimosas [Explicit]</td>\n",
       "      <td>5.0</td>\n",
       "    </tr>\n",
       "    <tr>\n",
       "      <th>1026268</th>\n",
       "      <td>36524721</td>\n",
       "      <td>B009MIA2WM</td>\n",
       "      <td>The White Room</td>\n",
       "      <td>5.0</td>\n",
       "    </tr>\n",
       "    <tr>\n",
       "      <th>929842</th>\n",
       "      <td>13574121</td>\n",
       "      <td>B006ZDU8EE</td>\n",
       "      <td>Somebody That I Used To Know [feat. Kimbra]</td>\n",
       "      <td>4.0</td>\n",
       "    </tr>\n",
       "    <tr>\n",
       "      <th>1614412</th>\n",
       "      <td>18348450</td>\n",
       "      <td>B0034EIVKK</td>\n",
       "      <td>I’m New Here</td>\n",
       "      <td>3.0</td>\n",
       "    </tr>\n",
       "    <tr>\n",
       "      <th>854189</th>\n",
       "      <td>45899968</td>\n",
       "      <td>B0089QLT4I</td>\n",
       "      <td>Sexify (Album Version)</td>\n",
       "      <td>5.0</td>\n",
       "    </tr>\n",
       "    <tr>\n",
       "      <th>...</th>\n",
       "      <td>...</td>\n",
       "      <td>...</td>\n",
       "      <td>...</td>\n",
       "      <td>...</td>\n",
       "    </tr>\n",
       "    <tr>\n",
       "      <th>1350624</th>\n",
       "      <td>23156980</td>\n",
       "      <td>B001AQR5CE</td>\n",
       "      <td>Hanukkah Swings</td>\n",
       "      <td>5.0</td>\n",
       "    </tr>\n",
       "    <tr>\n",
       "      <th>307620</th>\n",
       "      <td>47992230</td>\n",
       "      <td>B00T5755TA</td>\n",
       "      <td>Beyoncé's Top Songs</td>\n",
       "      <td>5.0</td>\n",
       "    </tr>\n",
       "    <tr>\n",
       "      <th>603761</th>\n",
       "      <td>37667090</td>\n",
       "      <td>B00E5ZFDN0</td>\n",
       "      <td>Greater Than (Live)</td>\n",
       "      <td>5.0</td>\n",
       "    </tr>\n",
       "    <tr>\n",
       "      <th>143913</th>\n",
       "      <td>42875977</td>\n",
       "      <td>B008E62MHG</td>\n",
       "      <td>The Touch Of Your Hand</td>\n",
       "      <td>5.0</td>\n",
       "    </tr>\n",
       "    <tr>\n",
       "      <th>260426</th>\n",
       "      <td>42739752</td>\n",
       "      <td>B00SQLRM2Y</td>\n",
       "      <td>of Beauty and Rage</td>\n",
       "      <td>5.0</td>\n",
       "    </tr>\n",
       "  </tbody>\n",
       "</table>\n",
       "<p>252223 rows × 4 columns</p>\n",
       "</div>"
      ],
      "text/plain": [
       "         customer_id  product_id                                product_title  \\\n",
       "287116      32347684  B00JHBGFN4                   Doses & Mimosas [Explicit]   \n",
       "1026268     36524721  B009MIA2WM                               The White Room   \n",
       "929842      13574121  B006ZDU8EE  Somebody That I Used To Know [feat. Kimbra]   \n",
       "1614412     18348450  B0034EIVKK                                 I’m New Here   \n",
       "854189      45899968  B0089QLT4I                       Sexify (Album Version)   \n",
       "...              ...         ...                                          ...   \n",
       "1350624     23156980  B001AQR5CE                              Hanukkah Swings   \n",
       "307620      47992230  B00T5755TA                          Beyoncé's Top Songs   \n",
       "603761      37667090  B00E5ZFDN0                          Greater Than (Live)   \n",
       "143913      42875977  B008E62MHG                       The Touch Of Your Hand   \n",
       "260426      42739752  B00SQLRM2Y                           of Beauty and Rage   \n",
       "\n",
       "         star_rating  \n",
       "287116           5.0  \n",
       "1026268          5.0  \n",
       "929842           4.0  \n",
       "1614412          3.0  \n",
       "854189           5.0  \n",
       "...              ...  \n",
       "1350624          5.0  \n",
       "307620           5.0  \n",
       "603761           5.0  \n",
       "143913           5.0  \n",
       "260426           5.0  \n",
       "\n",
       "[252223 rows x 4 columns]"
      ]
     },
     "execution_count": 19,
     "metadata": {},
     "output_type": "execute_result"
    }
   ],
   "source": [
    "amz_sample"
   ]
  },
  {
   "cell_type": "code",
   "execution_count": null,
   "metadata": {},
   "outputs": [],
   "source": [
    "# Connect to SparkSession\n",
    "spark = SparkSession.builder.appName('PySpark ALS Recommender System').getOrCreate()"
   ]
  },
  {
   "cell_type": "code",
   "execution_count": 20,
   "metadata": {
    "scrolled": true
   },
   "outputs": [],
   "source": [
    "# Load Amazon DataFrame to Spark\n",
    "amz_spark = spark.createDataFrame(amz_sample)"
   ]
  },
  {
   "cell_type": "code",
   "execution_count": 12,
   "metadata": {
    "scrolled": true
   },
   "outputs": [
    {
     "name": "stdout",
     "output_type": "stream",
     "text": [
      "+-----------+----------+--------------------+-----------+\n",
      "|customer_id|product_id|       product_title|star_rating|\n",
      "+-----------+----------+--------------------+-----------+\n",
      "|   36264374|B002O4H6OI|          Simple Man|        4.0|\n",
      "|   10681359|B006ZDU7QI|      Making Mirrors|        5.0|\n",
      "|   13989297|B002IIXIU6|Country Pie (Stud...|        5.0|\n",
      "|   13364862|B00YQXKF70|Black Rose [Expli...|        5.0|\n",
      "|   51299750|B002PZ5K2G|             Make Me|        5.0|\n",
      "|   44518341|B00BK5BR2Y|     The Party Troll|        5.0|\n",
      "|   50348291|B00CNGV878|The Dance (Garth ...|        5.0|\n",
      "|   21844443|B001DRG8HS|               Split|        4.0|\n",
      "|   44993663|B008U73LI8|Isaiah 2:2, Josep...|        1.0|\n",
      "|   29306231|B001BKCTAM|   Kiss My Irish Ass|        5.0|\n",
      "|   47089919|B00DGI0RUG|Bully (Original Mix)|        5.0|\n",
      "|   15089637|B001NZ75UY|Ridin' (Album Ver...|        5.0|\n",
      "|   48426096|B006N9AQXI|   Am I The Only One|        5.0|\n",
      "|   37924955|B00123LQWK|How Deep The Fath...|        5.0|\n",
      "|   33332777|B002PNBYNW|God & Guns (Amazo...|        1.0|\n",
      "|   52172010|B000V656X4|                Asia|        5.0|\n",
      "|   41715424|B0087240Z4|             Oceania|        5.0|\n",
      "|   24000280|B00ENGKNBI|    Alligator Stroll|        5.0|\n",
      "|   27031351|B0012ADTLO|Before the Gates ...|        5.0|\n",
      "|   49218572|B0090VMONG|Harp - A Time to ...|        5.0|\n",
      "+-----------+----------+--------------------+-----------+\n",
      "only showing top 20 rows\n",
      "\n"
     ]
    }
   ],
   "source": [
    "amz_spark.show()"
   ]
  },
  {
   "cell_type": "code",
   "execution_count": 21,
   "metadata": {},
   "outputs": [
    {
     "name": "stdout",
     "output_type": "stream",
     "text": [
      "+-----------+----------+--------------------+-----------+-----------------+----------------+-------------------+\n",
      "|customer_id|product_id|       product_title|star_rating|customer_id_index|product_id_index|product_title_index|\n",
      "+-----------+----------+--------------------+-----------+-----------------+----------------+-------------------+\n",
      "|   32347684|B00JHBGFN4|Doses & Mimosas [...|        5.0|           8941.0|        150767.0|            55771.0|\n",
      "|   36524721|B009MIA2WM|      The White Room|        5.0|         121849.0|        126693.0|           119998.0|\n",
      "|   13574121|B006ZDU8EE|Somebody That I U...|        4.0|          48526.0|            70.0|               47.0|\n",
      "|   18348450|B0034EIVKK|        I’m New Here|        3.0|           4265.0|          6562.0|             9368.0|\n",
      "|   45899968|B0089QLT4I|Sexify (Album Ver...|        5.0|         151665.0|        120759.0|            28609.0|\n",
      "|   49693727|B001BLMBK4|            Capiche?|        5.0|         164253.0|         62469.0|            47774.0|\n",
      "|   13391730|B003U0381A|     Poor Little Oaf|        4.0|          13714.0|         90028.0|            96943.0|\n",
      "|   23179482|B00JYQ90BQ|Stan Would Rather...|        1.0|          85434.0|        151674.0|           108976.0|\n",
      "|   13470466|B000W1UFUM|All Time Greatest...|        4.0|          47982.0|         15308.0|              708.0|\n",
      "|   16718440|B0060KYXTS|Don't Blame It On...|        5.0|          64134.0|        110493.0|            55235.0|\n",
      "|   16394013|B005342UBK|He Walked On Wate...|        4.0|          62865.0|        103943.0|            66936.0|\n",
      "|   45593562|B0025TGAPI|       Bleeding Love|        5.0|         150573.0|         74156.0|             1797.0|\n",
      "|   50170480|B000QVKQDE|            Skin Job|        5.0|          28122.0|         32521.0|           106023.0|\n",
      "|   51897505|B001B7EE5S| Coat of Many Colors|        4.0|         173335.0|         17984.0|             6362.0|\n",
      "|   17166655|B00JG0JHD6|        Z [Explicit]|        5.0|          66086.0|          5407.0|             7960.0|\n",
      "|   27552027|B00AIGQB0O|            Paperman|        5.0|          98380.0|          5073.0|             4389.0|\n",
      "|   26480653|B00EVLQBCK|A Place Called Lo...|        5.0|          19537.0|          1541.0|             2329.0|\n",
      "|   42071298|B00BJ9QULO|6.Like This ( Won...|        3.0|         137738.0|        133424.0|            35002.0|\n",
      "|   26464402|B00NX53W22| Amazon Front Row EP|        5.0|          95388.0|         13640.0|             3158.0|\n",
      "|   43927911|B000QQMZQA|         La Calesera|        5.0|         144279.0|         31833.0|            78966.0|\n",
      "+-----------+----------+--------------------+-----------+-----------------+----------------+-------------------+\n",
      "only showing top 20 rows\n",
      "\n"
     ]
    }
   ],
   "source": [
    "# Assign Every Unique Product ID, Customer ID, and Product Title an Index - Model Needs Numeric IDs\n",
    "indexer = [StringIndexer(inputCol=column, outputCol=column+\"_index\") for column in list(set(amz_spark.columns)-set(['star_rating'])) ]\n",
    "pipeline = Pipeline(stages=indexer)\n",
    "transformed = pipeline.fit(amz_spark).transform(amz_spark)\n",
    "transformed.show()"
   ]
  },
  {
   "cell_type": "code",
   "execution_count": null,
   "metadata": {},
   "outputs": [],
   "source": []
  },
  {
   "cell_type": "code",
   "execution_count": 22,
   "metadata": {},
   "outputs": [],
   "source": [
    "# Split DataFrame into Training and Test Sets - 80:20 Ratio\n",
    "# Need to add Seed here\n",
    "(training, test) = transformed.randomSplit([0.8, 0.2])"
   ]
  },
  {
   "cell_type": "code",
   "execution_count": null,
   "metadata": {},
   "outputs": [],
   "source": [
    "# ALS Model - 2 Iterations, RegParam 0.01\n",
    "als = ALS(maxIter=2, regParam=0.01, userCol=\"customer_id_index\", itemCol=\"product_id_index\", ratingCol=\"star_rating\",\n",
    "          coldStartStrategy=\"drop\", nonnegative=True)"
   ]
  },
  {
   "cell_type": "code",
   "execution_count": null,
   "metadata": {},
   "outputs": [],
   "source": [
    "# ALS Model - 2 Iterations, RegParam 0.09\n",
    "als = ALS(maxIter=2, regParam=0.09, userCol=\"customer_id_index\", itemCol=\"product_id_index\", ratingCol=\"star_rating\",\n",
    "          coldStartStrategy=\"drop\", nonnegative=True)"
   ]
  },
  {
   "cell_type": "code",
   "execution_count": 23,
   "metadata": {},
   "outputs": [],
   "source": [
    "# ALS Model - 5 Iterations, RegParam 0.01\n",
    "als = ALS(maxIter=5, regParam=0.09, userCol=\"customer_id_index\", itemCol=\"product_id_index\", ratingCol=\"star_rating\",\n",
    "          coldStartStrategy=\"drop\", nonnegative=True)"
   ]
  },
  {
   "cell_type": "code",
   "execution_count": 24,
   "metadata": {
    "scrolled": false
   },
   "outputs": [],
   "source": [
    "# Fit ALS Model to Training Set\n",
    "als_spark_model = als.fit(training)"
   ]
  },
  {
   "cell_type": "code",
   "execution_count": 25,
   "metadata": {
    "scrolled": true
   },
   "outputs": [
    {
     "name": "stdout",
     "output_type": "stream",
     "text": [
      "RMSE=2.744569246560837\n"
     ]
    }
   ],
   "source": [
    "# Evaluate Model with RMSE\n",
    "evaluator = RegressionEvaluator(metricName=\"rmse\",labelCol=\"star_rating\",predictionCol=\"prediction\")\n",
    "predictions = als_spark_model.transform(test)\n",
    "rmse = evaluator.evaluate(predictions)\n",
    "print(\"Root-mean-square error = \" + str(rmse))"
   ]
  },
  {
   "cell_type": "code",
   "execution_count": null,
   "metadata": {},
   "outputs": [],
   "source": [
    "# Create Pandas DataFrame to User Recommendations\n",
    "user_recs = als_spark_model.recommendForAllUsers(5).toPandas()"
   ]
  },
  {
   "cell_type": "code",
   "execution_count": 31,
   "metadata": {
    "scrolled": true
   },
   "outputs": [],
   "source": [
    "# Create Pandas DataFrame to Product Recommendations\n",
    "product_recs = als_spark_model.recommendForAllItems(5).toPandas()"
   ]
  },
  {
   "cell_type": "code",
   "execution_count": 38,
   "metadata": {},
   "outputs": [
    {
     "data": {
      "text/html": [
       "<div>\n",
       "<style scoped>\n",
       "    .dataframe tbody tr th:only-of-type {\n",
       "        vertical-align: middle;\n",
       "    }\n",
       "\n",
       "    .dataframe tbody tr th {\n",
       "        vertical-align: top;\n",
       "    }\n",
       "\n",
       "    .dataframe thead th {\n",
       "        text-align: right;\n",
       "    }\n",
       "</style>\n",
       "<table border=\"1\" class=\"dataframe\">\n",
       "  <thead>\n",
       "    <tr style=\"text-align: right;\">\n",
       "      <th></th>\n",
       "      <th>product_id_index</th>\n",
       "      <th>recommendations</th>\n",
       "    </tr>\n",
       "  </thead>\n",
       "  <tbody>\n",
       "    <tr>\n",
       "      <th>0</th>\n",
       "      <td>148</td>\n",
       "      <td>[(55116, 5.388706207275391), (21126, 5.3887062...</td>\n",
       "    </tr>\n",
       "    <tr>\n",
       "      <th>1</th>\n",
       "      <td>463</td>\n",
       "      <td>[(114084, 8.646773338317871), (27553, 8.229619...</td>\n",
       "    </tr>\n",
       "    <tr>\n",
       "      <th>2</th>\n",
       "      <td>471</td>\n",
       "      <td>[(161512, 10.749791145324707), (113283, 10.749...</td>\n",
       "    </tr>\n",
       "    <tr>\n",
       "      <th>3</th>\n",
       "      <td>496</td>\n",
       "      <td>[(27553, 11.78837776184082), (101957, 11.57784...</td>\n",
       "    </tr>\n",
       "    <tr>\n",
       "      <th>4</th>\n",
       "      <td>833</td>\n",
       "      <td>[(136768, 12.800902366638184), (65299, 11.8965...</td>\n",
       "    </tr>\n",
       "  </tbody>\n",
       "</table>\n",
       "</div>"
      ],
      "text/plain": [
       "   product_id_index                                    recommendations\n",
       "0               148  [(55116, 5.388706207275391), (21126, 5.3887062...\n",
       "1               463  [(114084, 8.646773338317871), (27553, 8.229619...\n",
       "2               471  [(161512, 10.749791145324707), (113283, 10.749...\n",
       "3               496  [(27553, 11.78837776184082), (101957, 11.57784...\n",
       "4               833  [(136768, 12.800902366638184), (65299, 11.8965..."
      ]
     },
     "execution_count": 38,
     "metadata": {},
     "output_type": "execute_result"
    }
   ],
   "source": [
    "product_recs.head()"
   ]
  },
  {
   "cell_type": "code",
   "execution_count": null,
   "metadata": {},
   "outputs": [],
   "source": [
    "\"\"\"\n",
    "Next Steps, Extract Lookuptables from Spark\n",
    "    customer_id_index -> customer_id\n",
    "    product_id_index -> product_id -> product_title\n",
    "\n",
    "Join Lookup Tables to Recommendation Outputs and Show Recommendations by Name\n",
    "\"\"\""
   ]
  },
  {
   "cell_type": "code",
   "execution_count": 37,
   "metadata": {},
   "outputs": [
    {
     "data": {
      "text/plain": [
       "Row(customer_id_index=21126, rating=5.388706207275391)"
      ]
     },
     "execution_count": 37,
     "metadata": {},
     "output_type": "execute_result"
    }
   ],
   "source": [
    "product_recs['recommendations'][0][]"
   ]
  },
  {
   "cell_type": "code",
   "execution_count": null,
   "metadata": {},
   "outputs": [],
   "source": [
    "# Tried creating a function, never tried\n",
    "def get_recs(model, rec_type=rec_type, no_recs=no_recs):\n",
    "    if rec_type = 'user':\n",
    "        return model.recommendForAllUsers(no_recs)\n",
    "    elif rec_type = 'item':\n",
    "        return model.recommendForAllItems(no_recs)"
   ]
  },
  {
   "cell_type": "code",
   "execution_count": null,
   "metadata": {},
   "outputs": [],
   "source": [
    "spark.stop()"
   ]
  }
 ],
 "metadata": {
  "kernelspec": {
   "display_name": "Python 3",
   "language": "python",
   "name": "python3"
  },
  "language_info": {
   "codemirror_mode": {
    "name": "ipython",
    "version": 3
   },
   "file_extension": ".py",
   "mimetype": "text/x-python",
   "name": "python",
   "nbconvert_exporter": "python",
   "pygments_lexer": "ipython3",
   "version": "3.7.6"
  }
 },
 "nbformat": 4,
 "nbformat_minor": 4
}
