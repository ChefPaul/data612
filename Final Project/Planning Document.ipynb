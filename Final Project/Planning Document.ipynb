{
 "cells": [
  {
   "cell_type": "markdown",
   "metadata": {},
   "source": [
    "# Data 612 - Final Project: Planning Document"
   ]
  },
  {
   "cell_type": "markdown",
   "metadata": {},
   "source": [
    "## Project: Song Recommendation System"
   ]
  },
  {
   "cell_type": "markdown",
   "metadata": {},
   "source": [
    "#### Authors: William Outcault, Paul Perez"
   ]
  },
  {
   "cell_type": "markdown",
   "metadata": {},
   "source": [
    "## Introduction"
   ]
  },
  {
   "cell_type": "markdown",
   "metadata": {},
   "source": [
    "Understanding that recommender engines are found everywhere online, as well as in the media we consume, we’d like to build a song recommendation system. Different platforms like Pandora and Spotify recommend songs and playlists based on a user’s listening trends. Since we’ve been exposed to numerous types of recommender engines, item based and user based collaborative filters, we’d like to take a hybrid approach. \n",
    "\n",
    "Additionally, we’d like to explore content based recommender systems being that there is a lot of meta data around songs. Using the algorithm built off of the dataset, we want to leverage the Spotify API, and create recommended playlists for a group of users."
   ]
  },
  {
   "cell_type": "markdown",
   "metadata": {},
   "source": [
    "## Dataset"
   ]
  },
  {
   "cell_type": "markdown",
   "metadata": {},
   "source": [
    "Million Song Dataset\n",
    "\n",
    "\n",
    "“A freely-available collection of audio features and metadata for a million  contemporary popular music tracks”\n",
    "\n",
    "[Million Song Dataset Website](http://millionsongdataset.com/)\n",
    "\n",
    "\n",
    "- Cluster of Datasets Contributed by the Community:\n",
    "    * SecondHandSongs\n",
    "    * musiXmatch\n",
    "    * Last.fm\n",
    "    * Taste Profile\n",
    "    * Thisismyjam-to-MSD\n",
    "    * Tagtraum\n",
    "    * Top MAGD\n",
    "    \n",
    "The entire dataset is 280GB, and we plan to utilize Spark to handle this data, but if we run into any issue, we’ll use the subset of the dataset that is 10,000 songs (1.8GB compressed)\n",
    "\n",
    "- Tools\n",
    "    * Python 3.x\n",
    "    * PySpark"
   ]
  },
  {
   "cell_type": "markdown",
   "metadata": {},
   "source": [
    "## Methodology"
   ]
  },
  {
   "cell_type": "markdown",
   "metadata": {},
   "source": [
    "Experiment with Item-Item, USer-User, SVD, ALS, and/or Content-Based Recommender Systems."
   ]
  }
 ],
 "metadata": {
  "kernelspec": {
   "display_name": "Python 3",
   "language": "python",
   "name": "python3"
  },
  "language_info": {
   "codemirror_mode": {
    "name": "ipython",
    "version": 3
   },
   "file_extension": ".py",
   "mimetype": "text/x-python",
   "name": "python",
   "nbconvert_exporter": "python",
   "pygments_lexer": "ipython3",
   "version": "3.7.6"
  }
 },
 "nbformat": 4,
 "nbformat_minor": 4
}
